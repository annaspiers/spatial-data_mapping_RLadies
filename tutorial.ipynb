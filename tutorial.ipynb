{
 "cells": [
  {
   "cell_type": "markdown",
   "id": "ce5b1aa4",
   "metadata": {},
   "source": [
    "# From csv to slippy map: Intro to spatial data in R"
   ]
  },
  {
   "cell_type": "markdown",
   "id": "75cc8b32",
   "metadata": {},
   "source": [
    "Anna Spiers, CU Boulder  \n",
    "08 June 2021\n",
    "R Ladies Boulder Chapter Meetup"
   ]
  },
  {
   "cell_type": "markdown",
   "id": "9876277a",
   "metadata": {},
   "source": [
    "AIS sexy map here"
   ]
  },
  {
   "cell_type": "markdown",
   "id": "12831ae8",
   "metadata": {},
   "source": [
    "**Learning objectives**  \n",
    "1. Describe what distinguishes spatial data\n",
    "2. Understand the basic differences between the `sp` and `sf` packages\n",
    "3. Reproject \n",
    "4. "
   ]
  },
  {
   "cell_type": "markdown",
   "id": "2e7ce2d6",
   "metadata": {},
   "source": [
    "### What is spatial data?\n",
    "\n",
    "**AIS BIG IMAGE HERE OF ALL THE EXAMPLES**\n",
    "Examples: field sites, rivers, county boundries, elevation maps, point clouds, ...\n",
    "\n",
    "* Spatial data are data that contain information about a specific location in space, in relative (e.g., two trees are 2m apart) or absolute (e.g., on Earth) terms \n",
    "* Different types:\n",
    "    * Vector: graphical respresentations of the world \n",
    "        * points, lines polygons\n",
    "        * File type: .shp, .kml, .kmz, .gpx\n",
    "    * Raster: grid of numbers\n",
    "        * ex: digital elevation model (DEM), microscope image\n",
    "        * File type: .tif\n",
    "    * 3D: three-dimensional\n",
    "        * point clouds\n",
    "        * File type: .las, laz"
   ]
  },
  {
   "cell_type": "markdown",
   "id": "c256cc95",
   "metadata": {},
   "source": [
    "### Vector data\n",
    "* We will work with vector data in this tutorial \n",
    "**AIS another image of the vector data examples**\n",
    "* Data types:\n",
    "    * Points: field sites, state capitols, sensor locations\n",
    "    * Lines: rivers, division in topography, flight line\n",
    "    * Polygons: field plot, county boundaries, buffer around a point or line\n",
    "* Vector data typically store a **geometry** (vertex coordinates) and **attributes** (metadata) for each feature\n",
    "* File types\n",
    "    * .shp - [ESRI](https://www.esri.com/en-us/home) developed the shapefile. Consists of several files, so zip them before sharing.\n",
    "    * .kml/.kmz - Keyole Markup Language. The KML was developed by Keyhole, Inc. which was acquired by Google. It is a simple spatial data format that was originally designed for Google Earth, but now is compatible with non-Google products. A form of XML\n",
    "    * .gpx - The geopackage is a more modern alternative to the shapefile. You can save different types of spatial data together in one gpx file. Often used in QGIS\n",
    "    * Many more file types, but we'll stop here\n",
    "* We will work with shapefiles because we want to work with attributes, and KMLs don't store feature attributes. **AIS IS THIS TRUE?**\n",
    "    "
   ]
  },
  {
   "cell_type": "markdown",
   "id": "33f5abda",
   "metadata": {},
   "source": [
    "### Case example\n",
    "* Wog Wog Habitat Fragmentation Experiment\n",
    "        **AIS IMAGE OF WOG WOG**\n",
    "* Join me as a graduate student in an Ecology & Evolutionary Biology department. We have the coordinates for the invertebrate pitfall traps across the site. We want to make an interactive map of the field site. How do we do this? \n",
    "* High-level workflow\n",
    "    1. CSV with coordinates of traps\n",
    "    2. Convert CSV to SHP\n",
    "    3. Plot SHP as map"
   ]
  },
  {
   "cell_type": "markdown",
   "id": "eba9a4ff",
   "metadata": {},
   "source": [
    "### Getting started in R: spatial packages\n",
    "* There are tons of spatial packages\n",
    "* Two main ones are `sp` and `sf`.\n",
    "* `sp`\n",
    "    * First released on CRAN in 2005\n",
    "    * Offers functionality to create and modify vector data and grids\n",
    "    * Many (about 350) of R's spatial packages use `sp` as a dependency\n",
    "    * Made up of 'slots' that describe the spatial object: always a bounding box and coordinate reference system (CRS), but also attributes (e.g., name, soil type, replicate)\n",
    "    * Examples of `sp` object classes: `SpatialPoints`, `SpatialLines`, `SpatialLinesDataFrame`, `SpatialPolygonsDataFrame`, and more\n",
    "    * To read in a shapefile: `read_OGR()`\n",
    "* `sf`\n",
    "    * Stands for 'Simple Features'\n",
    "    * First released on CRAN in 2016\n",
    "    * Implements the [WKT (well-known text)](https://en.wikipedia.org/wiki/Well-known_text_representation_of_geometry) format standard\n",
    "    * Examples of `sf` object classes: `POINT`, `LINESTRING`, `POLYGON`, and more\n",
    "    * To read in a shapefile: `st_read()` - slightly faster than `read_OGR()`\n",
    "* Data are structured and conceptualized differently between `sp` and `sf`. Other spatial packages may have different formatting standards and class definitions, but many are built as wrappers around the backbone of `sp` and increasingly more `sf`."
   ]
  },
  {
   "cell_type": "markdown",
   "id": "29f4ca87",
   "metadata": {},
   "source": [
    "Load your csv and look at the data\n",
    "convert to shp - with sp and sf\n",
    "look at difference between sp and sf shapefile\n",
    "save shapefile locally and see that it's 5 files\n",
    "\n",
    "sp: SpatialLines to SpatialPointsDataFrame (with attributes)\n",
    "sp: see resource for list of functions\n",
    "\n",
    "sf"
   ]
  },
  {
   "cell_type": "markdown",
   "id": "31284639",
   "metadata": {},
   "source": [
    "\n",
    "\n",
    "##### Mapping\n",
    "3. Work through some advanced mapping techniques to show the range of versatility of mapping in R. There are plenty of examples online that offer a few cookie cutter ways to map your data basically, but showing some cool expansions or extra features that are harder to find would be a good use of time  \n",
    "\n",
    "* geojson.io or google earth - use to extract polygons or lines\n",
    "* https://www.vdatum.noaa.gov/ - if you need a niche CRS\n",
    "* view raster data: see what scott sent\n",
    "* view point cloud data: website from Leah's lesson\n",
    "* just Leah's lessons in general\n",
    "* what is a gpx file?\n",
    "* store all spatial data in one QGIS project\n",
    "\n",
    "\n",
    "* So you have a csv of coordinates, what do you do?: \n",
    "  * convert to shp/kml - **Basics of converting CSVs to shapefiles etc. and why**\n",
    "  * but what CRS? \n",
    "    * global vs projected\n",
    "    * Google maps coordiantes are in ?\n",
    "    * best to do spatial analyses using a projection like your UTM zone (CO is 13N, Wog Wog is 55S) - include image of UTM zones \n",
    "* **Once the data is in working order, very brief basics of mapping **\n",
    "* static maps... introduce this or no?\n",
    "* interactive maps in R (tmap, leaflet). \n",
    "  * many ways to do this, but I will use `tmap`\n",
    "  * *Reference CU Boulder libraries guide*\n",
    "  * how to change which label is visible (change order in spdf)\n",
    "\n",
    "\n",
    "##### Misc\n",
    "* **Cool examples of the range of versatility, harder to find stuff, maybe some sticking points that took you a while to work through and the solution.**\n",
    "* use naming convention - agreed upon by team or standard (e.g., remote sensing data: L0, L1, etc.)\n",
    "* pay attention to CRS\n",
    "  * recommended to do analysis in UTM, but mapping in WGS84 (e.g. tmap requires WGS84)\n",
    "* best practices in storing data (save large data files locally)\n",
    "* I recommend visualizing your data in a GIS first, like QGIS, as a sanity check. right crs? does this look right? do data nearby each other appear nearby?\n",
    "\n",
    "\n",
    "##### Troubleshooting\n",
    "* always ask stackoverflow and your spatial friends\n",
    "\n",
    "\n",
    "##### Relevant topics that I will not cover\n",
    "* conversion from proj4 to prO(theta)4 - when and why?\n",
    "* working with Raster data (this will involve only vector data)\n",
    "* QGIS stuff... how to share QGIS data? \n",
    "\n",
    "##### My resources for this presentation:\n",
    "* https://cengel.github.io/rspatial/2_spDataTypes.nb.html\n",
    "* https://www.nceas.ucsb.edu/sites/default/files/2020-04/OverviewCoordinateReferenceSystems.pdf\n",
    "*\n"
   ]
  },
  {
   "cell_type": "raw",
   "id": "c9b567a9",
   "metadata": {},
   "source": [
    "To do\n",
    " - export as md\n",
    " - fill out learning objectives\n",
    " - add photos throughout and generally make it more interactive\n",
    " - check out leah's corresponding lessons for images"
   ]
  }
 ],
 "metadata": {
  "kernelspec": {
   "display_name": "R",
   "language": "R",
   "name": "ir"
  },
  "language_info": {
   "codemirror_mode": "r",
   "file_extension": ".r",
   "mimetype": "text/x-r-source",
   "name": "R",
   "pygments_lexer": "r",
   "version": "4.1.0"
  }
 },
 "nbformat": 4,
 "nbformat_minor": 5
}
